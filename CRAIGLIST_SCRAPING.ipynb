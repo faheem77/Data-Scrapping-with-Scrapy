{
  "nbformat": 4,
  "nbformat_minor": 0,
  "metadata": {
    "colab": {
      "name": "CRAIGLIST-SCRAPING.ipynb",
      "provenance": [],
      "authorship_tag": "ABX9TyMHK0Nz73HZoiL1SZYi22nD",
      "include_colab_link": true
    },
    "kernelspec": {
      "name": "python3",
      "display_name": "Python 3"
    },
    "language_info": {
      "name": "python"
    }
  },
  "cells": [
    {
      "cell_type": "markdown",
      "metadata": {
        "id": "view-in-github",
        "colab_type": "text"
      },
      "source": [
        "<a href=\"https://colab.research.google.com/github/faheem77/Data-Scrapping-with-Scrapy/blob/main/CRAIGLIST_SCRAPING.ipynb\" target=\"_parent\"><img src=\"https://colab.research.google.com/assets/colab-badge.svg\" alt=\"Open In Colab\"/></a>"
      ]
    },
    {
      "cell_type": "code",
      "source": [
        "import requests\n",
        "from bs4 import BeautifulSoup\n",
        "import pandas as pd\n",
        "\n",
        "def urls():\n",
        "  payload = {'api_key': 'YOUR API KEY', 'url': 'https://newyork.craigslist.org/search/cps'}\n",
        "  session = requests.session()\n",
        "  r = session.get('http://api.scraperapi.com', params=payload)\n",
        "  soup = BeautifulSoup(r.content, 'lxml')\n",
        "  links = []\n",
        "  divs= soup.findAll('li', class_='result-row')\n",
        "  for x in divs:\n",
        "    link = x.find('a', class_='hdrlnk').get('href')\n",
        "    links.append(link)\n",
        "\n",
        "  return links\n",
        "\n",
        "def scrap():\n",
        "  title = []\n",
        "  body = []\n",
        "  post_id = []\n",
        "  post_time = []\n",
        "\n",
        "  for url in urls():\n",
        "    payload = {'api_key': 'YOUR API KEY', 'url':url}\n",
        "    session = requests.session()\n",
        "    r = session.get('http://api.scraperapi.com', params=payload)\n",
        "    soup= BeautifulSoup(r.content,'lxml')\n",
        "    divs = soup.findAll('section', class_='body')\n",
        "    for i in divs:\n",
        "      title.append(i.find('span',class_='postingtitletext').text)\n",
        "      body.append(i.find('section', id='postingbody').text)\n",
        "      post_id.append(i.find('p', class_='postinginfo').text)\n",
        "      post_time.append(i.find('p', class_='postinginfo').text)\n",
        "  \n",
        "\n",
        "    \n",
        "\n",
        "  \n",
        "\n",
        "  df = pd.DataFrame({\"Title\": title, \"POST Body\": body, \"POST ID\": post_id, \"POST TIME\": post_time})\n",
        "  df.to_csv('data.csv', index=True)\n",
        "\n",
        "\n",
        "\n",
        "if __name__ =='__main__':\n",
        "  scrap()\n",
        "\n"
      ],
      "metadata": {
        "id": "eP-hxm0RWQZM"
      },
      "execution_count": null,
      "outputs": []
    },
    {
      "cell_type": "code",
      "source": [
        ""
      ],
      "metadata": {
        "id": "THzLDWiCtOCP"
      },
      "execution_count": null,
      "outputs": []
    }
  ]
}